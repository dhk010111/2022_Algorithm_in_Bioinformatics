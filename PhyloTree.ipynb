{
 "cells": [
  {
   "cell_type": "code",
   "execution_count": 5,
   "id": "be0cf32f",
   "metadata": {},
   "outputs": [
    {
     "name": "stderr",
     "output_type": "stream",
     "text": [
      "Duplicated entry [Mmu_001] was renamed to [1_Mmu_001]\n",
      "Warnning: [5] terminal nodes could not be found in the alignment.\n"
     ]
    },
    {
     "ename": "NameError",
     "evalue": "name 'recon_tree' is not defined",
     "output_type": "error",
     "traceback": [
      "\u001b[0;31m---------------------------------------------------------------------------\u001b[0m",
      "\u001b[0;31mNameError\u001b[0m                                 Traceback (most recent call last)",
      "\u001b[0;32m<ipython-input-5-0f8565c29344>\u001b[0m in \u001b[0;36m<module>\u001b[0;34m\u001b[0m\n\u001b[1;32m     41\u001b[0m     \u001b[0mt\u001b[0m\u001b[0;34m,\u001b[0m \u001b[0mts\u001b[0m \u001b[0;34m=\u001b[0m \u001b[0mget_example_tree\u001b[0m\u001b[0;34m(\u001b[0m\u001b[0;34m)\u001b[0m\u001b[0;34m\u001b[0m\u001b[0;34m\u001b[0m\u001b[0m\n\u001b[1;32m     42\u001b[0m     \u001b[0mt\u001b[0m\u001b[0;34m.\u001b[0m\u001b[0mshow\u001b[0m\u001b[0;34m(\u001b[0m\u001b[0mtree_style\u001b[0m\u001b[0;34m=\u001b[0m\u001b[0mts\u001b[0m\u001b[0;34m)\u001b[0m\u001b[0;34m\u001b[0m\u001b[0;34m\u001b[0m\u001b[0m\n\u001b[0;32m---> 43\u001b[0;31m     \u001b[0mrecon_tree\u001b[0m\u001b[0;34m.\u001b[0m\u001b[0mrender\u001b[0m\u001b[0;34m(\u001b[0m\u001b[0;34m\"phylotree.png\"\u001b[0m\u001b[0;34m,\u001b[0m \u001b[0mw\u001b[0m\u001b[0;34m=\u001b[0m\u001b[0;36m750\u001b[0m\u001b[0;34m)\u001b[0m\u001b[0;34m\u001b[0m\u001b[0;34m\u001b[0m\u001b[0m\n\u001b[0m",
      "\u001b[0;31mNameError\u001b[0m: name 'recon_tree' is not defined"
     ]
    }
   ],
   "source": [
    "from ete3 import PhyloTree, TreeStyle\n",
    "\n",
    "alg = \"\"\"\n",
    " >Dme_001\n",
    " MAEIPDETIQQFMALT---HNIAVQYLSEFGDLNEAL--YYASQTDDIKDRREEAH\n",
    " >Dme_002\n",
    " MAEIPDATIQQFMALTNVSHNIAVQY--EFGDLNEALNSYYAYQTDDQKDRREEAH\n",
    " >Cfa_001\n",
    " MAEIPDATI-Q--ALTNVSHNIAVQYLSEFGDLNEALNSYYASQTDDQPDRREEAH\n",
    " >Mms_001\n",
    " MAEAPDETIQQFMALTNVSHNIAVQYLSEFGDLNEAL--------------REEAH\n",
    " >Hsa_001\n",
    " MAEIPDETIQQFMALT---HNIAVQYLSEFGDLNEALNSYYASQTDDIKDRREEAH\n",
    " >Ptr_002\n",
    " MAEIPDATI-QFMALTNVSHNIAVQY--EFGDLNEALNS-Y-YQTDDQKDRREEAH\n",
    " >Mmu_002\n",
    " MAEIPDATI-Q--ALTNVSHNIAVQYLSEFGDLNEALNSYYASQTDDQPDRREEAH\n",
    " >Hsa_002\n",
    " MAEAPDETIQQFM-LTNVSHNIAVQYLSEFGDLNEAL--------------REEAH\n",
    " >Mmu_001\n",
    " MAEIPDETIQQFMALT---HNIAVQYLSEFGDLNEALNSYYASQTDDIKDRREEAH\n",
    " >Ptr_001\n",
    " MAEIPDATI-QFMALTNVSHNIAVQY--EFGDLNEALNS-Y-YQTDDQKDRREEAH\n",
    " >Mmu_001\n",
    " MAEIPDATI-Q--ALTNVSHNIAVQYLSEFGDLNEALNSYYASQTDDQPDRREEAH\n",
    "\"\"\"\n",
    "\n",
    "def get_example_tree():\n",
    "\n",
    "    # Performs a tree reconciliation analysis\n",
    "    gene_tree_nw = '((Dme_001,Dme_002),(((Cfa_001,Mms_001),((Hsa_001,Ptr_001),Mmu_001)),(Ptr_002,(Hsa_002,Mmu_002))));'\n",
    "    species_tree_nw = \"((((Hsa, Ptr), Mmu), (Mms, Cfa)), Dme);\"\n",
    "    genetree = PhyloTree(gene_tree_nw)\n",
    "    sptree = PhyloTree(species_tree_nw)\n",
    "    recon_tree, events = genetree.reconcile(sptree)\n",
    "    recon_tree.link_to_alignment(alg)\n",
    "    return recon_tree, TreeStyle()\n",
    "\n",
    "if __name__ == \"__main__\":\n",
    "    # Visualize the reconciled tree\n",
    "    t, ts = get_example_tree()\n",
    "    t.show(tree_style=ts)\n",
    "    recon_tree.render(\"phylotree.png\", w=750)"
   ]
  },
  {
   "cell_type": "code",
   "execution_count": null,
   "id": "b61bd314",
   "metadata": {},
   "outputs": [],
   "source": []
  }
 ],
 "metadata": {
  "kernelspec": {
   "display_name": "Python 3",
   "language": "python",
   "name": "python3"
  },
  "language_info": {
   "codemirror_mode": {
    "name": "ipython",
    "version": 3
   },
   "file_extension": ".py",
   "mimetype": "text/x-python",
   "name": "python",
   "nbconvert_exporter": "python",
   "pygments_lexer": "ipython3",
   "version": "3.6.13"
  }
 },
 "nbformat": 4,
 "nbformat_minor": 5
}
